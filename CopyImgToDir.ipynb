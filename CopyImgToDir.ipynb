{
 "cells": [
  {
   "cell_type": "code",
   "execution_count": 1,
   "metadata": {},
   "outputs": [],
   "source": [
    "#Import standard libraries and imageio to read in the images\n",
    "import imageio.v3 as imageio\n",
    "import numpy as np\n",
    "import matplotlib.pyplot as plt\n",
    "import pandas as pd\n",
    "import os\n",
    "# Additional libraries\n",
    "import re\n",
    "from PIL import Image\n",
    "import shutil"
   ]
  },
  {
   "cell_type": "code",
   "execution_count": 2,
   "metadata": {},
   "outputs": [],
   "source": [
    "def sorted_nicely( l ):\n",
    "    \"\"\" Sorts the given iterable in the way that is expected.\n",
    " \n",
    "    Required arguments:\n",
    "    l -- The iterable to be sorted.\n",
    " \n",
    "    \"\"\"\n",
    "    convert = lambda text: int(text) if text.isdigit() else text\n",
    "    alphanum_key = lambda key: [convert(c) for c in re.split('([0-9]+)', key)]\n",
    "    return sorted(l, key = alphanum_key)"
   ]
  },
  {
   "cell_type": "code",
   "execution_count": 3,
   "metadata": {},
   "outputs": [],
   "source": [
    "def CopyImgToDir(srcdir, outdir1, interval, SPLIT=False, split_index=0, outdir2=None, startpoint=None, endpoint=None):\n",
    "    \"\"\"\n",
    "    Samples images located in 'srcdir' and copies them into one or two output directories based on an input interval.\n",
    "\n",
    "    Args:\n",
    "        srcdir (str): Path to directory that contains images to be copied.\n",
    "        outdir1 (str): Path of directory to be created that will contain the copied images.\n",
    "        interval (int): Interval between sampled images. Only one image will be sampled every 'interval' images.\n",
    "        SPLIT (bool, optional): Whether to split the images into two directories based on a split index. Default is False.\n",
    "        split_index (int, optional): Index at which to split the images if SPLIT is True. Default is 0.\n",
    "        outdir2 (str, optional): Path of the second directory to be created if SPLIT is True. Default is None.\n",
    "        startpoint (int, optional): Index to start sampling images from in the first split if SPLIT is True. Default is None.\n",
    "        endpoint (int, optional): Index to end sampling images in the first split -if SPLIT is True. Default is None.\n",
    "\n",
    "    Returns:\n",
    "        None\n",
    "    \"\"\"\n",
    "    # Creates the output directories if they don't exist\n",
    "    os.makedirs(outdir1, exist_ok=True)\n",
    "    if SPLIT and outdir2:\n",
    "        os.makedirs(outdir2, exist_ok=True)\n",
    "    \n",
    "    # Obtaining list of files in srcdir and sorting them in alphanumerical order\n",
    "    folder = sorted_nicely(os.listdir(srcdir))\n",
    "    \n",
    "    # Splitting the images depending on condition of SPLIT Bool flag as well as start/endpoints\n",
    "    if SPLIT and (startpoint == None) and (endpoint == None):\n",
    "        samples1 = folder[:split_index]\n",
    "        samples2 = folder[split_index:]\n",
    "        \n",
    "    elif SPLIT and (startpoint != None) and (endpoint == None):\n",
    "        samples1 = folder[startpoint:split_index]\n",
    "        samples2 = folder[split_index:]\n",
    "        \n",
    "    elif SPLIT and (startpoint == None) and (endpoint != None):\n",
    "        samples1 = folder[:endpoint]\n",
    "        samples2 = folder[split_index:]\n",
    "        \n",
    "    elif SPLIT and (startpoint != None) and (endpoint != None):\n",
    "        samples1 = folder[startpoint:endpoint]\n",
    "        samples2 = folder[split_index:]\n",
    "        \n",
    "    else:\n",
    "        samples1 = folder\n",
    "    \n",
    "    # Extracting a sample of images from srcdir based on the interval\n",
    "    sampledImgs1 = samples1[::interval]\n",
    "\n",
    "    if SPLIT:\n",
    "        sampledImgs2 = samples2[::interval]\n",
    "\n",
    "    # Copying sampled images into outdir1\n",
    "    for img in sampledImgs1:\n",
    "        srcpath = os.path.join(srcdir, img)\n",
    "        outpath = os.path.join(outdir1, img)\n",
    "        shutil.copy(srcpath, outpath)\n",
    "\n",
    "    # Copying sampled images into outdir2 if SPLIT is True and outdir2 is specified\n",
    "    if SPLIT and outdir2:\n",
    "        for img in sampledImgs2:\n",
    "            srcpath = os.path.join(srcdir, img)\n",
    "            outpath = os.path.join(outdir2, img)\n",
    "            shutil.copy(srcpath, outpath)\n",
    "\n",
    "    # Unloading data to free up memory\n",
    "    del folder\n",
    "    del sampledImgs1\n",
    "    if SPLIT and outdir2:\n",
    "        del sampledImgs2\n",
    "    \n",
    "    return None\n"
   ]
  },
  {
   "cell_type": "markdown",
   "metadata": {},
   "source": [
    "Sampled Binary Classification Dataset generation:"
   ]
  },
  {
   "cell_type": "code",
   "execution_count": 4,
   "metadata": {},
   "outputs": [],
   "source": [
    "CopyImgToDir('Training/Fire','SampledDataset/BinaryClassification/Training/Fire/',29//4)"
   ]
  },
  {
   "cell_type": "code",
   "execution_count": 5,
   "metadata": {},
   "outputs": [],
   "source": [
    "CopyImgToDir('Training/No_Fire','SampledDataset/BinaryClassification/Training/No_Fire/',29//4)"
   ]
  },
  {
   "cell_type": "code",
   "execution_count": 6,
   "metadata": {},
   "outputs": [],
   "source": [
    "CopyImgToDir('Test/Fire','SampledDataset/BinaryClassification/Test/Fire/',29//4)"
   ]
  },
  {
   "cell_type": "code",
   "execution_count": 7,
   "metadata": {},
   "outputs": [],
   "source": [
    "CopyImgToDir('Test/No_Fire','SampledDataset/BinaryClassification/Test/No_Fire/',29//4)"
   ]
  },
  {
   "cell_type": "markdown",
   "metadata": {},
   "source": [
    "Sampled Ternary Classification Dataset generation:"
   ]
  },
  {
   "cell_type": "code",
   "execution_count": 8,
   "metadata": {},
   "outputs": [],
   "source": [
    "CopyImgToDir('Training/Fire','SampledDataset/TernaryClassification/Training/Fire/',29//4)"
   ]
  },
  {
   "cell_type": "code",
   "execution_count": 9,
   "metadata": {},
   "outputs": [],
   "source": [
    "CopyImgToDir('Training/No_Fire','SampledDataset/TRAINLake/',1,SPLIT=True,split_index=11847,outdir2='SampledDataset/TRAINNo_Fire/')"
   ]
  },
  {
   "cell_type": "code",
   "execution_count": 10,
   "metadata": {},
   "outputs": [],
   "source": [
    "CopyImgToDir('SampledDataset/TRAINLake/','SampledDataset/TernaryClassification/Training/Lake/',29//4,SPLIT=True,split_index=11847,outdir2=None,startpoint=0,endpoint=(2369*4))"
   ]
  },
  {
   "cell_type": "code",
   "execution_count": 11,
   "metadata": {},
   "outputs": [],
   "source": [
    "CopyImgToDir('SampledDataset/TRAINNo_Fire/','SampledDataset/TernaryClassification/Training/No_Fire/',29//4)"
   ]
  },
  {
   "cell_type": "code",
   "execution_count": 12,
   "metadata": {},
   "outputs": [],
   "source": [
    "CopyImgToDir('Test/Fire','SampledDataset/TernaryClassification/Test/Fire/',29//4)"
   ]
  },
  {
   "cell_type": "code",
   "execution_count": 13,
   "metadata": {},
   "outputs": [],
   "source": [
    "CopyImgToDir('Test/No_Fire','SampledDataset/TernaryClassification/Test/No_Fire/',29//4)"
   ]
  },
  {
   "cell_type": "code",
   "execution_count": 14,
   "metadata": {},
   "outputs": [],
   "source": [
    "CopyImgToDir('SampledDataset/TRAINLake/','SampledDataset/TernaryClassification/Test/Lake/',29//4,SPLIT=True,split_index=11847,outdir2=None,startpoint=(2369*4),endpoint=None)"
   ]
  }
 ],
 "metadata": {
  "kernelspec": {
   "display_name": "tensorflow",
   "language": "python",
   "name": "python3"
  },
  "language_info": {
   "codemirror_mode": {
    "name": "ipython",
    "version": 3
   },
   "file_extension": ".py",
   "mimetype": "text/x-python",
   "name": "python",
   "nbconvert_exporter": "python",
   "pygments_lexer": "ipython3",
   "version": "3.11.7"
  }
 },
 "nbformat": 4,
 "nbformat_minor": 2
}
